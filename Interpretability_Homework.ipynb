{
  "cells": [
    {
      "cell_type": "markdown",
      "metadata": {
        "id": "8ZMQnFLgE1Z4"
      },
      "source": [
        "## Setup code"
      ]
    },
    {
      "cell_type": "code",
      "execution_count": 2,
      "metadata": {
        "colab": {
          "base_uri": "https://localhost:8080/"
        },
        "id": "STpaFwLtCaLl",
        "outputId": "07f0c5c3-cc7f-47de-ede7-340f501c27ff"
      },
      "outputs": [
        {
          "name": "stderr",
          "output_type": "stream",
          "text": [
            "/var/folders/62/r46p4vgs7m5bbync7hl0ykjc0000gp/T/ipykernel_80004/1943651544.py:5: DeprecationWarning: pkg_resources is deprecated as an API. See https://setuptools.pypa.io/en/latest/pkg_resources.html\n",
            "  import pkg_resources\n"
          ]
        }
      ],
      "source": [
        "import os\n",
        "import sys\n",
        "from pathlib import Path\n",
        "\n",
        "import pkg_resources\n",
        "\n",
        "# Install dependencies\n",
        "installed_packages = [pkg.key for pkg in pkg_resources.working_set]\n",
        "if \"transformer-lens\" not in installed_packages:\n",
        "    %pip install transformer_lens==2.14.1 sae-lens sae-vis einops eindex-callum jaxtyping git+https://github.com/callummcdougall/CircuitsVis.git#subdirectory=python\n",
        "\n",
        "# root = \"./content\"\n",
        "\n",
        "# os.chdir(root)"
      ]
    },
    {
      "cell_type": "code",
      "execution_count": 4,
      "metadata": {
        "colab": {
          "base_uri": "https://localhost:8080/"
        },
        "id": "PUkdnhglFCdh",
        "outputId": "83c0a56e-c2da-4f64-ca8a-da7e5ba44e55"
      },
      "outputs": [
        {
          "data": {
            "text/plain": [
              "<torch.autograd.grad_mode.set_grad_enabled at 0x339ee6f30>"
            ]
          },
          "execution_count": 4,
          "metadata": {},
          "output_type": "execute_result"
        }
      ],
      "source": [
        "import functools\n",
        "import sys\n",
        "from pathlib import Path\n",
        "from typing import Callable\n",
        "\n",
        "import circuitsvis as cv\n",
        "import einops\n",
        "import random\n",
        "import numpy as np\n",
        "import torch as t\n",
        "import torch.nn as nn\n",
        "import torch.nn.functional as F\n",
        "from eindex import eindex\n",
        "import plotly.express as px\n",
        "from rich import print as rprint\n",
        "from rich.table import Table\n",
        "from IPython.display import HTML, IFrame, clear_output, display\n",
        "from jaxtyping import Float, Int\n",
        "from torch import Tensor\n",
        "from tqdm import tqdm\n",
        "from transformer_lens import (\n",
        "    ActivationCache,\n",
        "    FactoredMatrix,\n",
        "    HookedTransformer,\n",
        "    HookedTransformerConfig,\n",
        "    utils,\n",
        ")\n",
        "from transformer_lens.utils import get_act_name, test_prompt, to_numpy\n",
        "from sae_lens import (\n",
        "    SAE,\n",
        "    ActivationsStore,\n",
        "    HookedSAETransformer,\n",
        "    LanguageModelSAERunnerConfig,\n",
        "    SAEConfig,\n",
        "    SAETrainingRunner,\n",
        "    upload_saes_to_huggingface,\n",
        ")\n",
        "from sae_lens.toolkit.pretrained_saes_directory import get_pretrained_saes_directory\n",
        "from sae_vis import SaeVisConfig, SaeVisData, SaeVisLayoutConfig\n",
        "from tabulate import tabulate\n",
        "from transformer_lens.hook_points import HookPoint\n",
        "\n",
        "device = t.device(\"cpu\")\n",
        "if t.mps.is_available():\n",
        "    device = t.device(\"mps\")\n",
        "if t.cuda.is_available():\n",
        "    device = t.device(\"cuda\")\n",
        "\n",
        "t.set_grad_enabled(False)"
      ]
    },
    {
      "cell_type": "markdown",
      "metadata": {
        "id": "QVPtIpccFOs2"
      },
      "source": [
        "# 1️⃣ Sparse Autoencoders: Background\n",
        "\n",
        "This homework is an upper-level introduction to the Sparse Autoencoders initially introduced by [Anthropic](https://github.com/TransformerLensOrg/TransformerLens?ysclid=m7al57nk6207670258), and is currently one of the most interesting areas of research in mechanistic interpretability.\n",
        "\n",
        "We're highly encouraging you to read [Superposition](https://transformer-circuits.pub/2022/toy_model/index.html) paper to get a notion of the concept. Specifically, \"Background & Motivation\" and \"Demonstrating Superposition\" parts. You can also read the [Neel Nanda glossary](https://dynalist.io/d/n2ZWtnoYHrU1s4vnFSAQ519J#z=3br1psLRIjQCOv2T4RN3V6F2) for a quick introduction.\n",
        "\n",
        "After that - read Anthropic's dictionary learning paper (linked above): the introduction and first section (problem setup) up to and including the \"Sparse Autoencoder Setup\" section.\n",
        "\n",
        "A quick summary is given below."
      ]
    },
    {
      "cell_type": "markdown",
      "metadata": {
        "id": "gGoLNOeKjK_K"
      },
      "source": [
        "#### Features as a decomposition\n",
        "\n",
        "There is significant empirical evidence suggesting that neural networks have interpretable linear directions in activation space.\n",
        "\n",
        "If linear directions are interpretable, it's natural to think there's some \"basic set\" of meaningful directions which more complex directions can be created from. We call these directions features, and they're what we'd like to decompose models into. Sometimes, by happy circumstances, individual neurons appear to be these basic interpretable units. But quite often, this isn't the case."
      ]
    },
    {
      "cell_type": "markdown",
      "metadata": {
        "id": "PcZcXyzzjfHZ"
      },
      "source": [
        "#### Superposition hypothesis\n",
        "\n",
        "To see how this decomposition relates to superposition, recall the **superposition hypothesis**, which postulates that neural networks “want to represent more features than they have neurons”. We think this happens via a kind of “noisy simulation”, where small neural networks exploit feature sparsity and properties of high-dimensional spaces to approximately simulate much larger much sparser neural networks.\n",
        "\n",
        "![sparse autoencoder.png](data:image/png;base64,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)"
      ]
    },
    {
      "cell_type": "markdown",
      "metadata": {
        "id": "vDpjCGdmHDYe"
      },
      "source": [
        "#### What is an autoencoder, and what is it trained to do?\n",
        "\n",
        "Autoencoders are a type of neural network which learns efficient encodings / representations of unlabelled data. It is trained to compress the input in some way to a **latent representation**, then map it back into the original input space. It is trained by minimizing the reconstruction loss between the input and the reconstructed input.\n",
        "\n",
        "The \"encoding\" part usually refers to the latent space being lower-dimensional than the input. However, that's not always the case, as we'll see with sparse autoencoders.\n",
        "\n",
        "<img src=\"https://raw.githubusercontent.com/chloeli-15/ARENA_img/main/img/sae-diagram-2.png\" width=\"900\">"
      ]
    },
    {
      "cell_type": "markdown",
      "metadata": {
        "id": "COoyXv4HH_4Z"
      },
      "source": [
        "#### Why is the hidden dimension of our autoencoder larger than the number of activations, when we train an SAE on an MLP layer?\n",
        "\n",
        "As mentioned in the previous dropdown, usually the latent vector is a compressed representation of the input because it's lower-dimensional. However, it can still be a compressed representation even if it's higher dimensional, if we enforce a sparsity constraint on the latent vector (which in some sense reduces its effective dimensionality).\n",
        "\n",
        "As for why we do this specifically for our autoencoder use case, it's because we're trying to recover features from **superposition**, in cases where there are **more features than neurons**. We're hoping our autoencoder learns an **overcomplete feature basis**."
      ]
    },
    {
      "cell_type": "markdown",
      "metadata": {
        "id": "PFEW20sYk_ng"
      },
      "source": [
        "#### Defining Sparse Autoencoder\n",
        "\n",
        "The sparse autoencoder is an autoencoder that takes in the hidden state activations $h_l$ of some LLM at layer $l$, map them to a larger (overcomplete) hidden state $z$, then reconstruct the original hidden state $h_l$ from $z$.\n",
        "\n",
        "$$\n",
        "\\begin{aligned}\n",
        "z &= \\operatorname{ReLU}(W_{enc}(h_l - b_{dec}) + b_{enc}) \\\\\n",
        "h'_l &= W_{dec}z + b_{dec}\n",
        "\\end{aligned}\n",
        "$$\n",
        "\n",
        "Equivalently, this can be written as a combination of more general features which can be any direction. So you can write it as follows:\n",
        "\n",
        "$h_l ≈ b_{dec} + \\sum_i f_i(h_l)d_i$,\n",
        "\n",
        "where $f_i(h_l)$ is the activation of feature $i$, $d_i = (W_{dec})_{:, i}$ is a vector in activation space we call the *direction* of feature $i$, and $b$ is a bias. The feature activations are computed as:\n",
        "\n",
        "$f_{i}(x) = \\operatorname{ReLU}(W_{enc}(x - b_{dec}) + b_{enc})$\n",
        "\n",
        "#### Loss function\n",
        "\n",
        "The sparse autoencoder parameters are trained to reconstruct the original hidden state activations and ensure the sparsity of such reconstructions. This is achieved by optimizing w.r.t. the loss function:\n",
        "\n",
        "$L = \\mathbb{E}_x [||x - x'||^2_2 + \\lambda \\sum_i f_{i}(x)]$,\n",
        "\n",
        "where the first term is the reconstruction loss and the second one is the L1 penalty on feature activations which ensures sparsity."
      ]
    },
    {
      "cell_type": "markdown",
      "metadata": {
        "id": "7JmyxpgOIQ6V"
      },
      "source": [
        "#### Why does the L1 penalty encourage sparsity?\n",
        "\n",
        "Unlike $L_2$ penalties, the $L_1$ penalty actually pushes values towards zero. This is a well-known result in statistics, best illustrated below:\n",
        "\n",
        "<img src=\"https://raw.githubusercontent.com/info-arena/ARENA_img/main/misc/l1-viz.png\" width=\"450\">\n",
        "\n",
        "See [this Google ML page](https://developers.google.com/machine-learning/crash-course/regularization-for-sparsity/l1-regularization) for more of an explanation (it also has a nice out-of-context animation!)."
      ]
    },
    {
      "cell_type": "markdown",
      "metadata": {
        "id": "b1vo1HPYuWMi"
      },
      "source": [
        "## 2️⃣ SAELens\n",
        "\n",
        "> - SAELens is a library for training and analysing SAEs. It can be thought of as the equivalent of `TransformerLens` we have considered on the seminar for SAEs (although it allso integrates closely with `TransformerLens`)\n",
        "> - SAELens contains many different model releases, each release containing multiple SAEs (e.g. trained on different model layers / hook points, or with different architectures)\n",
        "> - The `cfg` attribute of an `SAE` instance contains this information, and anything else that's relevant when performing forward passes"
      ]
    },
    {
      "cell_type": "markdown",
      "metadata": {
        "id": "wqW7zC1zwyhv"
      },
      "source": [
        "Next, we'll load the SAE which we'll be working with: the **layer 7 resid pre model** from the **GPT2 Small SAEs** (as well as a copy of GPT2 Small to attach it to). The SAE uses the `HookedSAETransformer` class, which is adapted from the TransformerLens `HookedTransformer` class.\n",
        "\n",
        "Note, the `SAE.from_pretrained` function has return type `tuple[SAE, dict, Tensor | None]`, with the return elements being the SAE, config dict, and a tensor of feature sparsities. The config dict contains useful metadata on e.g. how the SAE was trained (among other things)."
      ]
    },
    {
      "cell_type": "code",
      "execution_count": 5,
      "metadata": {
        "colab": {
          "base_uri": "https://localhost:8080/"
        },
        "collapsed": true,
        "id": "KHsdCSykFEFV",
        "outputId": "4ee7b129-a848-4de0-9d34-68b89bf9ee88"
      },
      "outputs": [
        {
          "name": "stdout",
          "output_type": "stream",
          "text": [
            "Loaded pretrained model gpt2-small into HookedTransformer\n"
          ]
        },
        {
          "name": "stderr",
          "output_type": "stream",
          "text": [
            "huggingface/tokenizers: The current process just got forked, after parallelism has already been used. Disabling parallelism to avoid deadlocks...\n",
            "To disable this warning, you can either:\n",
            "\t- Avoid using `tokenizers` before the fork if possible\n",
            "\t- Explicitly set the environment variable TOKENIZERS_PARALLELISM=(true | false)\n",
            "/Users/aigoncharov/dev/sktech/sktech-trustworty-ai/.venv/lib/python3.12/site-packages/sae_lens/sae.py:146: UserWarning: \n",
            "This SAE has non-empty model_from_pretrained_kwargs. \n",
            "For optimal performance, load the model like so:\n",
            "model = HookedSAETransformer.from_pretrained_no_processing(..., **cfg.model_from_pretrained_kwargs)\n",
            "  warnings.warn(\n"
          ]
        }
      ],
      "source": [
        "t.set_grad_enabled(False)\n",
        "\n",
        "gpt2: HookedSAETransformer = HookedSAETransformer.from_pretrained(\"gpt2-small\", device=device)\n",
        "\n",
        "gpt2_sae, cfg_dict, sparsity = SAE.from_pretrained(\n",
        "    release=\"gpt2-small-res-jb\",\n",
        "    sae_id=\"blocks.7.hook_resid_pre\",\n",
        "    device=str(device),\n",
        ")"
      ]
    },
    {
      "cell_type": "markdown",
      "metadata": {
        "id": "XMZQOGak9okD"
      },
      "source": [
        "The `sae` object is an instance of the `SAE` (Sparse Autoencoder) class. There are many different SAE architectures which may have different weights or activation functions. In order to simplify working with SAEs, `SAELens` handles most of this complexity for you. You can run the cell below to see each of the SAE config parameters for the one we'll be using."
      ]
    },
    {
      "cell_type": "code",
      "execution_count": 6,
      "metadata": {
        "colab": {
          "base_uri": "https://localhost:8080/"
        },
        "id": "lAXfcKRz9e2-",
        "outputId": "601e1aa8-338e-4b32-fd86-35ab31625fd4"
      },
      "outputs": [
        {
          "name": "stdout",
          "output_type": "stream",
          "text": [
            "┌──────────────────────────────┬──────────────────────────────────┐\n",
            "│ name                         │ value                            │\n",
            "├──────────────────────────────┼──────────────────────────────────┤\n",
            "│ architecture                 │ standard                         │\n",
            "│ d_in                         │ 768                              │\n",
            "│ d_sae                        │ 24576                            │\n",
            "│ activation_fn_str            │ relu                             │\n",
            "│ apply_b_dec_to_input         │ True                             │\n",
            "│ finetuning_scaling_factor    │ False                            │\n",
            "│ context_size                 │ 128                              │\n",
            "│ model_name                   │ gpt2-small                       │\n",
            "│ hook_name                    │ blocks.7.hook_resid_pre          │\n",
            "│ hook_layer                   │ 7                                │\n",
            "│ hook_head_index              │                                  │\n",
            "│ prepend_bos                  │ True                             │\n",
            "│ dataset_path                 │ Skylion007/openwebtext           │\n",
            "│ dataset_trust_remote_code    │ True                             │\n",
            "│ normalize_activations        │ none                             │\n",
            "│ dtype                        │ torch.float32                    │\n",
            "│ device                       │ mps                              │\n",
            "│ sae_lens_training_version    │                                  │\n",
            "│ activation_fn_kwargs         │ {}                               │\n",
            "│ neuronpedia_id               │ gpt2-small/7-res-jb              │\n",
            "│ model_from_pretrained_kwargs │ {'center_writing_weights': True} │\n",
            "│ seqpos_slice                 │ (None,)                          │\n",
            "└──────────────────────────────┴──────────────────────────────────┘\n"
          ]
        }
      ],
      "source": [
        "print(tabulate(gpt2_sae.cfg.__dict__.items(), headers=[\"name\", \"value\"], tablefmt=\"simple_outline\"))"
      ]
    },
    {
      "cell_type": "markdown",
      "metadata": {
        "id": "Lr3uB1gn9_8-"
      },
      "source": [
        "Let's have a look at our SAEs, and see what they're actually telling us.\n",
        "\n",
        "Before we dive too deep however, let's recap something - what actually is an SAE latent?\n",
        "\n",
        "An SAE latent is a particular *direction* in the base model's activation space, learned by the SAE. Often, these correspond to **features** in the data - in other words, meaningful semantic, syntactic or otherwise interpretable patterns or concepts that exist in the distribution of data the base model was trained on, and which were learned by the base model. These features are usually highly sparse, in other words for any given feature only a small fraction of the overall data distribution will activate that feature. It tends to be the case that sparser features are also more interpretable.\n",
        "\n",
        "**NOTE** - technically saying \"direction\" is an oversimplification here, because a given latent can have multiple directions in activation space associated with them, e.g. a separate encoder and decoder direction for standard untied SAEs. When we refer to a latent direction or feature direction, we're usually but not always referring to the decoder weights ($d_i$).\n",
        "\n",
        "There is a great hosted tool called [Neuronpedia](https://docs.neuronpedia.org/features), which hosts multiple SAEs for different models and layers.\n",
        "\n",
        "*Neuronpedia* is a website that hosts SAE dashboards and which runs servers that can run the model and check latent activations. This makes it very convenient to check that a latent fires on the distribution of text you actually think it should fire on. We will use data from Neuronpedia for the dashboards below.\n",
        "\n",
        "The dashboard taken from *Neuronpedia* for GPT-2 shown below provides a detailed view of a single SAE latent."
      ]
    },
    {
      "cell_type": "code",
      "execution_count": 7,
      "metadata": {
        "colab": {
          "base_uri": "https://localhost:8080/",
          "height": 638
        },
        "id": "4Nm92t5W9w9p",
        "outputId": "9ee6a6c6-8d9d-4f5c-afa4-8c52357d9953"
      },
      "outputs": [
        {
          "name": "stdout",
          "output_type": "stream",
          "text": [
            "https://neuronpedia.org/gpt2-small/7-res-jb/10688?embed=true&embedexplanation=true&embedplots=true&embedtest=true&height=300\n"
          ]
        },
        {
          "data": {
            "text/html": [
              "\n",
              "        <iframe\n",
              "            width=\"800\"\n",
              "            height=\"600\"\n",
              "            src=\"https://neuronpedia.org/gpt2-small/7-res-jb/10688?embed=true&embedexplanation=true&embedplots=true&embedtest=true&height=300\"\n",
              "            frameborder=\"0\"\n",
              "            allowfullscreen\n",
              "            \n",
              "        ></iframe>\n",
              "        "
            ],
            "text/plain": [
              "<IPython.lib.display.IFrame at 0x33dcf4f50>"
            ]
          },
          "metadata": {},
          "output_type": "display_data"
        }
      ],
      "source": [
        "def display_dashboard(\n",
        "    sae_release=\"gpt2-small-res-jb\",\n",
        "    sae_id=\"blocks.7.hook_resid_pre\",\n",
        "    latent_idx=0,\n",
        "    width=800,\n",
        "    height=600,\n",
        "):\n",
        "    release = get_pretrained_saes_directory()[sae_release]\n",
        "    neuronpedia_id = release.neuronpedia_id[sae_id]\n",
        "\n",
        "    url = f\"https://neuronpedia.org/{neuronpedia_id}/{latent_idx}?embed=true&embedexplanation=true&embedplots=true&embedtest=true&height=300\"\n",
        "\n",
        "    print(url)\n",
        "    display(IFrame(url, width=width, height=height))\n",
        "\n",
        "\n",
        "latent_idx = random.randint(0, gpt2_sae.cfg.d_sae)\n",
        "display_dashboard(latent_idx=latent_idx)"
      ]
    },
    {
      "cell_type": "markdown",
      "metadata": {
        "id": "wT-AZmFC_JYU"
      },
      "source": [
        "Let's break down the separate components of the visualization:\n",
        "\n",
        "1. **Latent Activation Distribution**. This shows the proportion of tokens a latent fires on, usually between 0.01% and 1%, and also shows the distribution of positive activations.  \n",
        "2. **Logits Distribution**. This is the projection of the decoder weight onto the unembed and roughly gives us a sense of the tokens promoted by a latent. It's less useful in big models / middle layers.\n",
        "3. **Top / Botomn Logits**. These are the 10 most positive and most negative logits in the logit weight distribution.\n",
        "4. **Max Activating Examples**. These are examples of text where the latent fires and usually provide the most information for helping us work out what a latent means.\n",
        "5. **Autointerp**. These are LLM-generated latent explanations, which use the rest of the data in the dashboard (in particular the max activating examples).\n",
        "\n",
        "See this section of [Towards Monosemanticity](https://transformer-circuits.pub/2023/monosemantic-features#setup-interface) for more information."
      ]
    },
    {
      "cell_type": "markdown",
      "metadata": {
        "id": "eBURNDv2_eI8"
      },
      "source": [
        "### **Task - find interesting latents (Points: 5)**\n",
        "\n",
        "Browse through the SAE dashboard (i.e. running the code with different random indices corresponding to different features). What interesting latents can you find? Try and find the following types of latents (or any different that seem interpretable to you):\n",
        "\n",
        "- Latents for **token-level features**, which seem to only fire on a particular token and basically no others. Do the top logits make sense, when viewed as bigram frequencies?\n",
        "- Latents for **concept-level features**, which fire not on single tokens but across multiple tokens, provided that a particular concept is present in the text (e.g. `latent_idx=4527` is an example of this). What is the concept that this latent represents? Can you see how the positive logits for this token make sense?\n",
        "- **Highly sparse latents**, with activation density less than 0.05%. Does it seem more interpretable than the average latent?\n",
        "\n",
        "\n",
        "### **YOUR ANSWER BELOW**\n",
        "\n",
        "Find at least 3 latents which look interpretable to you (for example representing one of the above meanings) and give your explanation for them:\n",
        "\n",
        "> - LATENT_IDX_1: YOUR EXPLANATION\n",
        "> - LATENT_IDX_2: YOUR EXPLANATION\n",
        "> - LATENT_IDX_3: YOUR EXPLANATION\n",
        "> - ..."
      ]
    },
    {
      "cell_type": "markdown",
      "metadata": {
        "id": "yZ93EaBwDAws"
      },
      "source": []
    },
    {
      "cell_type": "code",
      "execution_count": 6,
      "metadata": {
        "id": "3b4X8o9gLxCc"
      },
      "outputs": [],
      "source": [
        "# play with the latens here by using `display_dashboard` with different `latent_idx`"
      ]
    },
    {
      "cell_type": "markdown",
      "metadata": {
        "id": "Fcg_0toHDHa5"
      },
      "source": [
        "## Running with SAEs\n",
        "\n",
        "> In this section, you'll learn how to run forward passes with SAEs. This is a pretty simple process, which builds on much of the pre-existing infrastructure in `TransformerLens` models. Key points:\n",
        "\n",
        "> - There's an analogous `run_with_saes` that works like `run_with_hooks`\n",
        "> - There's also `run_with_cache_with_saes` that works like `run_with_cache`, but allows you to cache any SAE activations you want\n",
        "> - You can use `ActivationStore` to get a large batch of activations at once"
      ]
    },
    {
      "cell_type": "markdown",
      "metadata": {
        "id": "hslnN06vDY8x"
      },
      "source": [
        "One of the key features of `HookedSAETransformer` is being able to \"splice in\" SAEs, replacing model activations with their SAE reconstructions. To run a forward pass with SAEs attached, you can use `model.run_with_saes(tokens, saes=[list_of_saes])`. This function has similar syntax to the standard forward pass (or to `model.run_with_hooks`), e.g. it can take arguments like `return_type` to specify whether the return type should be loss or logits. The attached SAEs will be reset immediately after the forward pass, returning the model to its original state. Under the hood, they work just like adding hooks in TransformerLens, only in this case our hooks are \"replace these activations with their SAE reconstructions\"."
      ]
    },
    {
      "cell_type": "code",
      "execution_count": 7,
      "metadata": {
        "colab": {
          "base_uri": "https://localhost:8080/",
          "height": 585
        },
        "id": "W56ZNjNHDQ1R",
        "outputId": "8ab7a39b-26d2-42cc-fd47-cb393cfedc1e"
      },
      "outputs": [
        {
          "name": "stdout",
          "output_type": "stream",
          "text": [
            "Tokenized prompt: ['<|endoftext|>', 'Mit', 'igating', ' the', ' risk', ' of', ' extinction', ' from', ' AI', ' should', ' be', ' a', ' global']\n",
            "Tokenized answer: [' priority']\n"
          ]
        },
        {
          "data": {
            "text/html": [
              "<pre style=\"white-space:pre;overflow-x:auto;line-height:normal;font-family:Menlo,'DejaVu Sans Mono',consolas,'Courier New',monospace\">Performance on answer token:\n",
              "<span style=\"font-weight: bold\">Rank: </span><span style=\"color: #008080; text-decoration-color: #008080; font-weight: bold\">0</span><span style=\"font-weight: bold\">        Logit: </span><span style=\"color: #008080; text-decoration-color: #008080; font-weight: bold\">19.46</span><span style=\"font-weight: bold\"> Prob: </span><span style=\"color: #008080; text-decoration-color: #008080; font-weight: bold\">52.99</span><span style=\"font-weight: bold\">% Token: | priority|</span>\n",
              "</pre>\n"
            ],
            "text/plain": [
              "Performance on answer token:\n",
              "\u001b[1mRank: \u001b[0m\u001b[1;36m0\u001b[0m\u001b[1m        Logit: \u001b[0m\u001b[1;36m19.46\u001b[0m\u001b[1m Prob: \u001b[0m\u001b[1;36m52.99\u001b[0m\u001b[1m% Token: | priority|\u001b[0m\n"
            ]
          },
          "metadata": {},
          "output_type": "display_data"
        },
        {
          "name": "stdout",
          "output_type": "stream",
          "text": [
            "Top 0th token. Logit: 19.46 Prob: 52.99% Token: | priority|\n",
            "Top 1th token. Logit: 17.44 Prob:  7.02% Token: | effort|\n",
            "Top 2th token. Logit: 16.94 Prob:  4.26% Token: | issue|\n",
            "Top 3th token. Logit: 16.63 Prob:  3.14% Token: | challenge|\n",
            "Top 4th token. Logit: 16.37 Prob:  2.42% Token: | goal|\n",
            "Top 5th token. Logit: 16.06 Prob:  1.78% Token: | concern|\n",
            "Top 6th token. Logit: 15.88 Prob:  1.47% Token: | focus|\n",
            "Top 7th token. Logit: 15.61 Prob:  1.13% Token: | approach|\n",
            "Top 8th token. Logit: 15.53 Prob:  1.04% Token: | policy|\n",
            "Top 9th token. Logit: 15.42 Prob:  0.93% Token: | initiative|\n"
          ]
        },
        {
          "data": {
            "text/html": [
              "<pre style=\"white-space:pre;overflow-x:auto;line-height:normal;font-family:Menlo,'DejaVu Sans Mono',consolas,'Courier New',monospace\"><span style=\"font-weight: bold\">Ranks of the answer tokens:</span> <span style=\"font-weight: bold\">[(</span><span style=\"color: #008000; text-decoration-color: #008000\">' priority'</span>, <span style=\"color: #008080; text-decoration-color: #008080; font-weight: bold\">0</span><span style=\"font-weight: bold\">)]</span>\n",
              "</pre>\n"
            ],
            "text/plain": [
              "\u001b[1mRanks of the answer tokens:\u001b[0m \u001b[1m[\u001b[0m\u001b[1m(\u001b[0m\u001b[32m' priority'\u001b[0m, \u001b[1;36m0\u001b[0m\u001b[1m)\u001b[0m\u001b[1m]\u001b[0m\n"
            ]
          },
          "metadata": {},
          "output_type": "display_data"
        },
        {
          "name": "stdout",
          "output_type": "stream",
          "text": [
            "Tokenized prompt: ['<|endoftext|>', 'Mit', 'igating', ' the', ' risk', ' of', ' extinction', ' from', ' AI', ' should', ' be', ' a', ' global']\n",
            "Tokenized answer: [' priority']\n"
          ]
        },
        {
          "data": {
            "text/html": [
              "<pre style=\"white-space:pre;overflow-x:auto;line-height:normal;font-family:Menlo,'DejaVu Sans Mono',consolas,'Courier New',monospace\">Performance on answer token:\n",
              "<span style=\"font-weight: bold\">Rank: </span><span style=\"color: #008080; text-decoration-color: #008080; font-weight: bold\">0</span><span style=\"font-weight: bold\">        Logit: </span><span style=\"color: #008080; text-decoration-color: #008080; font-weight: bold\">18.19</span><span style=\"font-weight: bold\"> Prob: </span><span style=\"color: #008080; text-decoration-color: #008080; font-weight: bold\">39.84</span><span style=\"font-weight: bold\">% Token: | priority|</span>\n",
              "</pre>\n"
            ],
            "text/plain": [
              "Performance on answer token:\n",
              "\u001b[1mRank: \u001b[0m\u001b[1;36m0\u001b[0m\u001b[1m        Logit: \u001b[0m\u001b[1;36m18.19\u001b[0m\u001b[1m Prob: \u001b[0m\u001b[1;36m39.84\u001b[0m\u001b[1m% Token: | priority|\u001b[0m\n"
            ]
          },
          "metadata": {},
          "output_type": "display_data"
        },
        {
          "name": "stdout",
          "output_type": "stream",
          "text": [
            "Top 0th token. Logit: 18.19 Prob: 39.84% Token: | priority|\n",
            "Top 1th token. Logit: 16.51 Prob:  7.36% Token: | issue|\n",
            "Top 2th token. Logit: 16.48 Prob:  7.20% Token: | concern|\n",
            "Top 3th token. Logit: 15.94 Prob:  4.19% Token: | challenge|\n",
            "Top 4th token. Logit: 15.30 Prob:  2.21% Token: | goal|\n",
            "Top 5th token. Logit: 15.12 Prob:  1.85% Token: | responsibility|\n",
            "Top 6th token. Logit: 15.04 Prob:  1.69% Token: | problem|\n",
            "Top 7th token. Logit: 14.98 Prob:  1.60% Token: | effort|\n",
            "Top 8th token. Logit: 14.73 Prob:  1.24% Token: | policy|\n",
            "Top 9th token. Logit: 14.66 Prob:  1.16% Token: | imperative|\n"
          ]
        },
        {
          "data": {
            "text/html": [
              "<pre style=\"white-space:pre;overflow-x:auto;line-height:normal;font-family:Menlo,'DejaVu Sans Mono',consolas,'Courier New',monospace\"><span style=\"font-weight: bold\">Ranks of the answer tokens:</span> <span style=\"font-weight: bold\">[(</span><span style=\"color: #008000; text-decoration-color: #008000\">' priority'</span>, <span style=\"color: #008080; text-decoration-color: #008080; font-weight: bold\">0</span><span style=\"font-weight: bold\">)]</span>\n",
              "</pre>\n"
            ],
            "text/plain": [
              "\u001b[1mRanks of the answer tokens:\u001b[0m \u001b[1m[\u001b[0m\u001b[1m(\u001b[0m\u001b[32m' priority'\u001b[0m, \u001b[1;36m0\u001b[0m\u001b[1m)\u001b[0m\u001b[1m]\u001b[0m\n"
            ]
          },
          "metadata": {},
          "output_type": "display_data"
        },
        {
          "name": "stdout",
          "output_type": "stream",
          "text": [
            "Standard model: top prediction = ' priority', prob = 52.99%\n",
            "SAE reconstruction: top prediction = ' priority', prob = 39.84%\n",
            "\n"
          ]
        }
      ],
      "source": [
        "prompt = \"Mitigating the risk of extinction from AI should be a global\"\n",
        "answer = \" priority\"\n",
        "\n",
        "# First see how the model does without SAEs\n",
        "test_prompt(prompt, answer, gpt2)\n",
        "\n",
        "# Same thing, done in a different way\n",
        "gpt2.add_sae(gpt2_sae)\n",
        "test_prompt(prompt, answer, gpt2)\n",
        "gpt2.reset_saes()  # Remember to always do this!\n",
        "\n",
        "# Using `run_with_saes` method in place of standard forward pass\n",
        "logits = gpt2(prompt, return_type=\"logits\")\n",
        "logits_sae = gpt2.run_with_saes(prompt, saes=[gpt2_sae], return_type=\"logits\")\n",
        "answer_token_id = gpt2.to_single_token(answer)\n",
        "\n",
        "# Getting model's prediction\n",
        "top_prob, token_id_prediction = logits[0, -1].softmax(-1).max(-1)\n",
        "top_prob_sae, token_id_prediction_sae = logits_sae[0, -1].softmax(-1).max(-1)\n",
        "\n",
        "print(f\"\"\"Standard model: top prediction = {gpt2.to_string(token_id_prediction)!r}, prob = {top_prob.item():.2%}\n",
        "SAE reconstruction: top prediction = {gpt2.to_string(token_id_prediction_sae)!r}, prob = {top_prob_sae.item():.2%}\n",
        "\"\"\")"
      ]
    },
    {
      "cell_type": "markdown",
      "metadata": {
        "id": "4_KWKMYSD_0F"
      },
      "source": [
        "Okay, so this is fine if we want to do a forward pass with the model's output replaced by SAE output, but what if we want to just get the SAE activations? Well, that's where running with cache comes in! With `HookedSAETransformer`, you can cache SAE activations (and all the other standard activations) with `logits, cache = model.run_with_cache_with_saes(tokens, saes=saes)`. Just as `run_with_saes` is a wapper around the standard forward pass, `run_with_cache_with_saes` is a wrapper around `run_with_cache`, and will also only add these saes for one forward pass before returning the model to its original state.\n",
        "\n",
        "To access SAE activations from the cache, the corresponding hook names will generally be the concatenations of the HookedTransformer `hook_name` (e.g. `\"blocks.5.attn.hook_z\"`) and the SAE hook name (e.g. `\"hook_sae_acts_post\"`), joined by a period. We can print out all the names below:"
      ]
    },
    {
      "cell_type": "code",
      "execution_count": 8,
      "metadata": {
        "colab": {
          "base_uri": "https://localhost:8080/"
        },
        "id": "E5iRcXWiEFBZ",
        "outputId": "53969d13-96c3-4233-cdb0-d5c3d38b06a2"
      },
      "outputs": [
        {
          "name": "stdout",
          "output_type": "stream",
          "text": [
            "blocks.7.hook_resid_pre.hook_sae_input     : (1, 13, 768)\n",
            "blocks.7.hook_resid_pre.hook_sae_acts_pre  : (1, 13, 24576)\n",
            "blocks.7.hook_resid_pre.hook_sae_acts_post : (1, 13, 24576)\n",
            "blocks.7.hook_resid_pre.hook_sae_recons    : (1, 13, 768)\n",
            "blocks.7.hook_resid_pre.hook_sae_output    : (1, 13, 768)\n"
          ]
        }
      ],
      "source": [
        "_, cache = gpt2.run_with_cache_with_saes(prompt, saes=[gpt2_sae])\n",
        "\n",
        "for name, param in cache.items():\n",
        "    if \"hook_sae\" in name:\n",
        "        print(f\"{name:<43}: {tuple(param.shape)}\")"
      ]
    },
    {
      "cell_type": "markdown",
      "metadata": {
        "id": "vwLOzRJqA9sl"
      },
      "source": [
        "### Using `ActivationStore`\n",
        "\n",
        "The `ActivationsStore` class is a convenient alternative to loading a bunch of data yourself. It streams in data from a given dataset; in the case of the `from_sae` class that dataset will be given by your SAE's config (which is also the same as the SAE's original training dataset):\n",
        "\n",
        "The dataset is used to collect statistics you've seen above from *Neuronpedia*."
      ]
    },
    {
      "cell_type": "code",
      "execution_count": 9,
      "metadata": {
        "colab": {
          "base_uri": "https://localhost:8080/"
        },
        "id": "Fth8m02sBLfs",
        "outputId": "e9179c66-4873-40f8-b1cc-56343d00f566"
      },
      "outputs": [
        {
          "name": "stdout",
          "output_type": "stream",
          "text": [
            ">>> Dataset used to train the gpt2_sae: Skylion007/openwebtext\n"
          ]
        }
      ],
      "source": [
        "print(\">>> Dataset used to train the gpt2_sae: {}\".format(gpt2_sae.cfg.dataset_path))"
      ]
    },
    {
      "cell_type": "markdown",
      "metadata": {
        "id": "6zWBT_IqBVJb"
      },
      "source": [
        "Let's load one used to train the SAE we are looking at now. We'll use fairly conservative parameters here so it can be used without running out of memory, but feel free to increase these parameters if you're able to (or decrease them if you still find yourself running out of memory)."
      ]
    },
    {
      "cell_type": "code",
      "execution_count": 10,
      "metadata": {
        "colab": {
          "base_uri": "https://localhost:8080/"
        },
        "id": "kH0mVinM-lfP",
        "outputId": "877bbbb7-f2ac-47be-c417-19b053e7babb"
      },
      "outputs": [
        {
          "name": "stderr",
          "output_type": "stream",
          "text": [
            "/usr/local/lib/python3.11/dist-packages/sae_lens/training/activations_store.py:301: UserWarning: Dataset is not tokenized. Pre-tokenizing will improve performance and allows for more control over special tokens. See https://jbloomaus.github.io/SAELens/training_saes/#pretokenizing-datasets for more info.\n",
            "  warnings.warn(\n",
            "Token indices sequence length is longer than the specified maximum sequence length for this model (1217 > 1024). Running this sequence through the model will result in indexing errors\n"
          ]
        }
      ],
      "source": [
        "gpt2_act_store = ActivationsStore.from_sae(\n",
        "    model=gpt2,\n",
        "    sae=gpt2_sae,\n",
        "    streaming=True,\n",
        "    store_batch_size_prompts=16,\n",
        "    n_batches_in_buffer=32,\n",
        "    device=str(device),\n",
        ")\n",
        "\n",
        "# Example of how you can use this:\n",
        "tokens = gpt2_act_store.get_batch_tokens()\n",
        "assert tokens.shape == (gpt2_act_store.store_batch_size_prompts, gpt2_act_store.context_size)"
      ]
    },
    {
      "cell_type": "markdown",
      "metadata": {
        "id": "gF-xoArCBhDc"
      },
      "source": [
        "# 3️⃣ Replicating SAE dashboards\n",
        "\n",
        "> This is your main homework. You'll replicate the 4 main components of the SAE dashboard: top logits tables, logits histogram, activation density plots, top activating sequences. This will give you a better understanding of how the statistics are constructed and a better understanding for the meaning of them.\n",
        "\n",
        "To review, basic SAE dashboards have 5 main components:\n",
        "\n",
        "1. **Activation Distribution** - the distribution of a latent's activations\n",
        "2. **Logits Distribution** - projection of decoder weights onto model's unembedding\n",
        "3. **Top / Bottom Logits** - the most positive and most negative logits in the logit weight distribution\n",
        "4. **Max Activating Examples** - sequences (and particular tokens) on which the latent fires strongest\n",
        "5. **Autointerp** - llm-generated latent explanations. We won't do it in this homework because it requires some money...\n",
        "\n",
        "We'll go through each of these (except autointerp) in turn. We'll be using latent `9` for this exercise; you can compare your results to the expected dashboard:"
      ]
    },
    {
      "cell_type": "code",
      "execution_count": 11,
      "metadata": {
        "colab": {
          "base_uri": "https://localhost:8080/",
          "height": 638
        },
        "id": "vuWEQ6lXBaBV",
        "outputId": "61964248-42f1-4cbe-d47d-6682748b3b48"
      },
      "outputs": [
        {
          "name": "stdout",
          "output_type": "stream",
          "text": [
            "https://neuronpedia.org/gpt2-small/7-res-jb/9?embed=true&embedexplanation=true&embedplots=true&embedtest=true&height=300\n"
          ]
        },
        {
          "data": {
            "text/html": [
              "\n",
              "        <iframe\n",
              "            width=\"800\"\n",
              "            height=\"600\"\n",
              "            src=\"https://neuronpedia.org/gpt2-small/7-res-jb/9?embed=true&embedexplanation=true&embedplots=true&embedtest=true&height=300\"\n",
              "            frameborder=\"0\"\n",
              "            allowfullscreen\n",
              "            \n",
              "        ></iframe>\n",
              "        "
            ],
            "text/plain": [
              "<IPython.lib.display.IFrame at 0x7e0b15cbdf90>"
            ]
          },
          "metadata": {},
          "output_type": "display_data"
        }
      ],
      "source": [
        "display_dashboard(latent_idx=9)"
      ]
    },
    {
      "cell_type": "markdown",
      "metadata": {
        "id": "kkXbCd0hCQNk"
      },
      "source": [
        "### **Task - get the activation distribution (Points: 10+5)**\n",
        "\n",
        "Let's start by implementing the activation distribution plot. The function below should iterate through some number of batches (note that you can reduce the default number if you find the code is taking too long), and creates a histogram of the activations for a given latent.\n",
        "\n",
        "Reminder - when using `model.run_with_cache_with_saes`, you can use the arguments `stop_at_layer=sae.cfg.hook_layer+1` as well as `names_filter=hook_name`; these will help you avoid unnecessary computation and memory usage.\n",
        "\n",
        "Try and return the **activation density** in the histogram's title too **(+5 bonus points)**. **Hint:** you can use `act_store` attributes to correctly derive the whole number of processed activations."
      ]
    },
    {
      "cell_type": "code",
      "execution_count": 12,
      "metadata": {
        "colab": {
          "base_uri": "https://localhost:8080/",
          "height": 559
        },
        "id": "ZHbjYFr4CIxX",
        "outputId": "3a46ba8d-566d-40f5-aa64-a1497b8c57f3"
      },
      "outputs": [
        {
          "name": "stderr",
          "output_type": "stream",
          "text": [
            "Computing activations for histogram: 100%|██████████| 200/200 [00:30<00:00,  6.61it/s]\n"
          ]
        },
        {
          "data": {
            "text/html": [
              "<html>\n",
              "<head><meta charset=\"utf-8\" /></head>\n",
              "<body>\n",
              "    <div>            <script src=\"https://cdnjs.cloudflare.com/ajax/libs/mathjax/2.7.5/MathJax.js?config=TeX-AMS-MML_SVG\"></script><script type=\"text/javascript\">if (window.MathJax && window.MathJax.Hub && window.MathJax.Hub.Config) {window.MathJax.Hub.Config({SVG: {font: \"STIX-Web\"}});}</script>                <script type=\"text/javascript\">window.PlotlyConfig = {MathJaxConfig: 'local'};</script>\n",
              "        <script charset=\"utf-8\" src=\"https://cdn.plot.ly/plotly-2.35.2.min.js\"></script>                <div id=\"0726447a-9ae7-414a-a7d1-a497892b1a5c\" class=\"plotly-graph-div\" style=\"height:525px; width:800px;\"></div>            <script type=\"text/javascript\">                                    window.PLOTLYENV=window.PLOTLYENV || {};                                    if (document.getElementById(\"0726447a-9ae7-414a-a7d1-a497892b1a5c\")) {                    Plotly.newPlot(                        \"0726447a-9ae7-414a-a7d1-a497892b1a5c\",                        [{\"alignmentgroup\":\"True\",\"bingroup\":\"x\",\"hovertemplate\":\"variable=0\\u003cbr\\u003eActivation=%{x}\\u003cbr\\u003ecount=%{y}\\u003cextra\\u003e\\u003c\\u002fextra\\u003e\",\"legendgroup\":\"0\",\"marker\":{\"color\":\"darkorange\",\"pattern\":{\"shape\":\"\"}},\"name\":\"0\",\"nbinsx\":50,\"offsetgroup\":\"0\",\"orientation\":\"v\",\"showlegend\":true,\"x\":[10.74452018737793,1.9390525817871094,0.719264030456543,25.72983169555664,1.04603910446167,1.0311262607574463,7.975077152252197,35.62128448486328,5.039478302001953,29.301822662353516,2.3078508377075195,40.42366027832031,0.713157057762146,0.5366899967193604,0.8010877370834351,3.7126169204711914,8.538858413696289,2.141416072845459,24.032691955566406,13.270267486572266,15.73294448852539,24.137184143066406,17.64667320251465,25.046281814575195,11.592947006225586,4.3743085861206055,0.6155125498771667,0.7634133100509644,2.1191775798797607,0.981202244758606,31.592121124267578,28.176315307617188,3.1218631267547607,1.4006470441818237,16.14381217956543,4.3127007484436035,15.803543090820312,14.52444839477539,1.6341012716293335,2.3799521923065186,28.771778106689453,33.132781982421875,1.0859390497207642,1.2734042406082153,0.827013373374939,30.666309356689453,36.3377799987793,0.20102715492248535,19.15192222595215,20.083404541015625,13.662525177001953,26.177059173583984,18.05862045288086,17.708505630493164,3.1469805240631104,15.325883865356445,10.14991569519043,14.313322067260742,1.1104658842086792,5.377959251403809,2.404500961303711,4.679249286651611,9.62985610961914,35.407745361328125,4.420150279998779,9.293167114257812,1.7156262397766113,1.178537368774414,0.26737236976623535,0.8426547050476074,1.2952169179916382,13.647130966186523,0.11879509687423706,4.424385070800781,0.6106224060058594,0.5047863721847534,2.5250370502471924,2.5400969982147217,2.279440402984619,1.4641560316085815,1.2384172677993774,1.2601113319396973,0.5622761249542236,0.7012640237808228,23.30172348022461,1.7719566822052002,1.1210545301437378,0.4625999927520752,36.50029754638672,41.24171447753906,3.841978073120117,1.1083616018295288,1.1863071918487549,1.3555893898010254,20.70058822631836,0.4123160243034363,9.470817565917969,18.228944778442383,3.9939098358154297,32.818355560302734,0.2003839612007141,11.605562210083008,4.136458873748779,4.090489864349365,0.4776254892349243,4.392930030822754,3.150804042816162,30.480045318603516,0.0270402729511261,0.9810689687728882,2.6664421558380127,24.886899948120117,24.5386905670166,19.728858947753906,35.033470153808594,0.5271692872047424,1.6289228200912476,1.7227566242218018,10.953956604003906,10.972845077514648,0.6150040626525879,33.746421813964844,16.327547073364258,2.0570363998413086,26.351036071777344,0.7114913463592529,26.1796817779541,36.02623748779297,26.722978591918945,16.356111526489258,24.849416732788086,0.277046263217926,11.890447616577148,17.359100341796875,10.876699447631836,0.24235355854034424,2.6262998580932617,2.9604251384735107,2.0880932807922363,1.4757758378982544,31.534297943115234,0.7807673215866089,35.4542121887207,0.9851037263870239,19.789438247680664,19.789438247680664,1.7708861827850342,3.1402575969696045,24.310501098632812,11.25075912475586,4.2059550285339355,16.797849655151367,0.03030642867088318,29.154584884643555,40.11354446411133,31.187767028808594,1.4252865314483643,5.342627048492432,26.899341583251953,40.274166107177734,0.07447388768196106,17.391359329223633,13.671388626098633,3.781205177307129,0.9138023853302002,30.11781120300293,0.3593551516532898,3.9273319244384766,1.1497098207473755,32.51365661621094,42.1036262512207,22.720760345458984,2.3350632190704346,14.078514099121094,0.00020653009414672852,3.8345046043395996,4.656501293182373,20.726863861083984,24.113521575927734,12.109657287597656,0.17860448360443115,0.0244922935962677,25.8985652923584,33.70759963989258,2.7459020614624023,3.384289264678955,1.055120825767517,3.6389317512512207,0.9849717617034912,1.8862955570220947,23.453365325927734,0.05724385380744934,1.3246140480041504,25.128448486328125,19.93922996520996,9.420175552368164,3.0072720050811768,1.014460563659668,0.08133119344711304,1.0518513917922974,15.390480041503906,0.584570050239563,12.252580642700195,0.7615426778793335,16.156845092773438,16.676420211791992,4.666883945465088,0.862318754196167,4.737380504608154,18.762367248535156,0.24092304706573486,21.162927627563477,22.993043899536133,16.56318473815918,29.51390838623047,15.757823944091797,0.535979688167572,20.08578872680664,0.24221277236938477,15.391813278198242,14.111822128295898,0.12298372387886047,8.616451263427734,0.16650018095970154,11.342540740966797,2.570087432861328,2.4203481674194336,27.229724884033203,36.679351806640625,1.0716559886932373,12.170381546020508,0.8463654518127441,0.8377360105514526,2.5074591636657715,3.7253408432006836,3.8150248527526855,5.517307281494141,0.6806396245956421,27.439109802246094,12.496755599975586,1.1044816970825195,4.347550392150879,5.1526288986206055,2.692380905151367,2.907069683074951,15.589853286743164,6.286497116088867,3.678537368774414,29.189794540405273,30.513099670410156,6.583606719970703,41.077213287353516,39.54305648803711,0.634067952632904,1.0523232221603394,0.33258557319641113,3.468954563140869,2.2124764919281006,1.708812952041626,21.31943130493164,22.565502166748047,2.265202283859253,0.030721813440322876,3.03125,0.5111352205276489,1.3912029266357422,1.468077301979065,0.34441500902175903,21.0727481842041,1.588605523109436,3.729748249053955,34.776695251464844,20.12898826599121,26.719560623168945,0.5414467453956604,21.726377487182617,16.784460067749023,0.4142325520515442,3.5069940090179443,7.149623870849609,4.105025768280029,3.6130032539367676,3.106123208999634,0.5812830328941345,29.082035064697266,0.8630063533782959,37.50794982910156,0.842995285987854,1.5922057628631592],\"xaxis\":\"x\",\"yaxis\":\"y\",\"type\":\"histogram\"}],                        {\"template\":{\"data\":{\"barpolar\":[{\"marker\":{\"line\":{\"color\":\"rgb(237,237,237)\",\"width\":0.5},\"pattern\":{\"fillmode\":\"overlay\",\"size\":10,\"solidity\":0.2}},\"type\":\"barpolar\"}],\"bar\":[{\"error_x\":{\"color\":\"rgb(51,51,51)\"},\"error_y\":{\"color\":\"rgb(51,51,51)\"},\"marker\":{\"line\":{\"color\":\"rgb(237,237,237)\",\"width\":0.5},\"pattern\":{\"fillmode\":\"overlay\",\"size\":10,\"solidity\":0.2}},\"type\":\"bar\"}],\"carpet\":[{\"aaxis\":{\"endlinecolor\":\"rgb(51,51,51)\",\"gridcolor\":\"white\",\"linecolor\":\"white\",\"minorgridcolor\":\"white\",\"startlinecolor\":\"rgb(51,51,51)\"},\"baxis\":{\"endlinecolor\":\"rgb(51,51,51)\",\"gridcolor\":\"white\",\"linecolor\":\"white\",\"minorgridcolor\":\"white\",\"startlinecolor\":\"rgb(51,51,51)\"},\"type\":\"carpet\"}],\"choropleth\":[{\"colorbar\":{\"outlinewidth\":0,\"tickcolor\":\"rgb(237,237,237)\",\"ticklen\":6,\"ticks\":\"inside\"},\"type\":\"choropleth\"}],\"contourcarpet\":[{\"colorbar\":{\"outlinewidth\":0,\"tickcolor\":\"rgb(237,237,237)\",\"ticklen\":6,\"ticks\":\"inside\"},\"type\":\"contourcarpet\"}],\"contour\":[{\"colorbar\":{\"outlinewidth\":0,\"tickcolor\":\"rgb(237,237,237)\",\"ticklen\":6,\"ticks\":\"inside\"},\"colorscale\":[[0,\"rgb(20,44,66)\"],[1,\"rgb(90,179,244)\"]],\"type\":\"contour\"}],\"heatmapgl\":[{\"colorbar\":{\"outlinewidth\":0,\"tickcolor\":\"rgb(237,237,237)\",\"ticklen\":6,\"ticks\":\"inside\"},\"colorscale\":[[0,\"rgb(20,44,66)\"],[1,\"rgb(90,179,244)\"]],\"type\":\"heatmapgl\"}],\"heatmap\":[{\"colorbar\":{\"outlinewidth\":0,\"tickcolor\":\"rgb(237,237,237)\",\"ticklen\":6,\"ticks\":\"inside\"},\"colorscale\":[[0,\"rgb(20,44,66)\"],[1,\"rgb(90,179,244)\"]],\"type\":\"heatmap\"}],\"histogram2dcontour\":[{\"colorbar\":{\"outlinewidth\":0,\"tickcolor\":\"rgb(237,237,237)\",\"ticklen\":6,\"ticks\":\"inside\"},\"colorscale\":[[0,\"rgb(20,44,66)\"],[1,\"rgb(90,179,244)\"]],\"type\":\"histogram2dcontour\"}],\"histogram2d\":[{\"colorbar\":{\"outlinewidth\":0,\"tickcolor\":\"rgb(237,237,237)\",\"ticklen\":6,\"ticks\":\"inside\"},\"colorscale\":[[0,\"rgb(20,44,66)\"],[1,\"rgb(90,179,244)\"]],\"type\":\"histogram2d\"}],\"histogram\":[{\"marker\":{\"pattern\":{\"fillmode\":\"overlay\",\"size\":10,\"solidity\":0.2}},\"type\":\"histogram\"}],\"mesh3d\":[{\"colorbar\":{\"outlinewidth\":0,\"tickcolor\":\"rgb(237,237,237)\",\"ticklen\":6,\"ticks\":\"inside\"},\"type\":\"mesh3d\"}],\"parcoords\":[{\"line\":{\"colorbar\":{\"outlinewidth\":0,\"tickcolor\":\"rgb(237,237,237)\",\"ticklen\":6,\"ticks\":\"inside\"}},\"type\":\"parcoords\"}],\"pie\":[{\"automargin\":true,\"type\":\"pie\"}],\"scatter3d\":[{\"line\":{\"colorbar\":{\"outlinewidth\":0,\"tickcolor\":\"rgb(237,237,237)\",\"ticklen\":6,\"ticks\":\"inside\"}},\"marker\":{\"colorbar\":{\"outlinewidth\":0,\"tickcolor\":\"rgb(237,237,237)\",\"ticklen\":6,\"ticks\":\"inside\"}},\"type\":\"scatter3d\"}],\"scattercarpet\":[{\"marker\":{\"colorbar\":{\"outlinewidth\":0,\"tickcolor\":\"rgb(237,237,237)\",\"ticklen\":6,\"ticks\":\"inside\"}},\"type\":\"scattercarpet\"}],\"scattergeo\":[{\"marker\":{\"colorbar\":{\"outlinewidth\":0,\"tickcolor\":\"rgb(237,237,237)\",\"ticklen\":6,\"ticks\":\"inside\"}},\"type\":\"scattergeo\"}],\"scattergl\":[{\"marker\":{\"colorbar\":{\"outlinewidth\":0,\"tickcolor\":\"rgb(237,237,237)\",\"ticklen\":6,\"ticks\":\"inside\"}},\"type\":\"scattergl\"}],\"scattermapbox\":[{\"marker\":{\"colorbar\":{\"outlinewidth\":0,\"tickcolor\":\"rgb(237,237,237)\",\"ticklen\":6,\"ticks\":\"inside\"}},\"type\":\"scattermapbox\"}],\"scatterpolargl\":[{\"marker\":{\"colorbar\":{\"outlinewidth\":0,\"tickcolor\":\"rgb(237,237,237)\",\"ticklen\":6,\"ticks\":\"inside\"}},\"type\":\"scatterpolargl\"}],\"scatterpolar\":[{\"marker\":{\"colorbar\":{\"outlinewidth\":0,\"tickcolor\":\"rgb(237,237,237)\",\"ticklen\":6,\"ticks\":\"inside\"}},\"type\":\"scatterpolar\"}],\"scatter\":[{\"fillpattern\":{\"fillmode\":\"overlay\",\"size\":10,\"solidity\":0.2},\"type\":\"scatter\"}],\"scatterternary\":[{\"marker\":{\"colorbar\":{\"outlinewidth\":0,\"tickcolor\":\"rgb(237,237,237)\",\"ticklen\":6,\"ticks\":\"inside\"}},\"type\":\"scatterternary\"}],\"surface\":[{\"colorbar\":{\"outlinewidth\":0,\"tickcolor\":\"rgb(237,237,237)\",\"ticklen\":6,\"ticks\":\"inside\"},\"colorscale\":[[0,\"rgb(20,44,66)\"],[1,\"rgb(90,179,244)\"]],\"type\":\"surface\"}],\"table\":[{\"cells\":{\"fill\":{\"color\":\"rgb(237,237,237)\"},\"line\":{\"color\":\"white\"}},\"header\":{\"fill\":{\"color\":\"rgb(217,217,217)\"},\"line\":{\"color\":\"white\"}},\"type\":\"table\"}]},\"layout\":{\"annotationdefaults\":{\"arrowhead\":0,\"arrowwidth\":1},\"autotypenumbers\":\"strict\",\"coloraxis\":{\"colorbar\":{\"outlinewidth\":0,\"tickcolor\":\"rgb(237,237,237)\",\"ticklen\":6,\"ticks\":\"inside\"}},\"colorscale\":{\"sequential\":[[0,\"rgb(20,44,66)\"],[1,\"rgb(90,179,244)\"]],\"sequentialminus\":[[0,\"rgb(20,44,66)\"],[1,\"rgb(90,179,244)\"]]},\"colorway\":[\"#F8766D\",\"#A3A500\",\"#00BF7D\",\"#00B0F6\",\"#E76BF3\"],\"font\":{\"color\":\"rgb(51,51,51)\"},\"geo\":{\"bgcolor\":\"white\",\"lakecolor\":\"white\",\"landcolor\":\"rgb(237,237,237)\",\"showlakes\":true,\"showland\":true,\"subunitcolor\":\"white\"},\"hoverlabel\":{\"align\":\"left\"},\"hovermode\":\"closest\",\"paper_bgcolor\":\"white\",\"plot_bgcolor\":\"rgb(237,237,237)\",\"polar\":{\"angularaxis\":{\"gridcolor\":\"white\",\"linecolor\":\"white\",\"showgrid\":true,\"tickcolor\":\"rgb(51,51,51)\",\"ticks\":\"outside\"},\"bgcolor\":\"rgb(237,237,237)\",\"radialaxis\":{\"gridcolor\":\"white\",\"linecolor\":\"white\",\"showgrid\":true,\"tickcolor\":\"rgb(51,51,51)\",\"ticks\":\"outside\"}},\"scene\":{\"xaxis\":{\"backgroundcolor\":\"rgb(237,237,237)\",\"gridcolor\":\"white\",\"gridwidth\":2,\"linecolor\":\"white\",\"showbackground\":true,\"showgrid\":true,\"tickcolor\":\"rgb(51,51,51)\",\"ticks\":\"outside\",\"zerolinecolor\":\"white\"},\"yaxis\":{\"backgroundcolor\":\"rgb(237,237,237)\",\"gridcolor\":\"white\",\"gridwidth\":2,\"linecolor\":\"white\",\"showbackground\":true,\"showgrid\":true,\"tickcolor\":\"rgb(51,51,51)\",\"ticks\":\"outside\",\"zerolinecolor\":\"white\"},\"zaxis\":{\"backgroundcolor\":\"rgb(237,237,237)\",\"gridcolor\":\"white\",\"gridwidth\":2,\"linecolor\":\"white\",\"showbackground\":true,\"showgrid\":true,\"tickcolor\":\"rgb(51,51,51)\",\"ticks\":\"outside\",\"zerolinecolor\":\"white\"}},\"shapedefaults\":{\"fillcolor\":\"black\",\"line\":{\"width\":0},\"opacity\":0.3},\"ternary\":{\"aaxis\":{\"gridcolor\":\"white\",\"linecolor\":\"white\",\"showgrid\":true,\"tickcolor\":\"rgb(51,51,51)\",\"ticks\":\"outside\"},\"baxis\":{\"gridcolor\":\"white\",\"linecolor\":\"white\",\"showgrid\":true,\"tickcolor\":\"rgb(51,51,51)\",\"ticks\":\"outside\"},\"bgcolor\":\"rgb(237,237,237)\",\"caxis\":{\"gridcolor\":\"white\",\"linecolor\":\"white\",\"showgrid\":true,\"tickcolor\":\"rgb(51,51,51)\",\"ticks\":\"outside\"}},\"xaxis\":{\"automargin\":true,\"gridcolor\":\"white\",\"linecolor\":\"white\",\"showgrid\":true,\"tickcolor\":\"rgb(51,51,51)\",\"ticks\":\"outside\",\"title\":{\"standoff\":15},\"zerolinecolor\":\"white\"},\"yaxis\":{\"automargin\":true,\"gridcolor\":\"white\",\"linecolor\":\"white\",\"showgrid\":true,\"tickcolor\":\"rgb(51,51,51)\",\"ticks\":\"outside\",\"title\":{\"standoff\":15},\"zerolinecolor\":\"white\"}}},\"xaxis\":{\"anchor\":\"y\",\"domain\":[0.0,1.0],\"title\":{\"text\":\"Activation\"}},\"yaxis\":{\"anchor\":\"x\",\"domain\":[0.0,1.0],\"title\":{\"text\":\"count\"}},\"legend\":{\"title\":{\"text\":\"variable\"},\"tracegroupgap\":0},\"title\":{\"text\":\"ACTIVATIONS DENSITY 0.071%\"},\"barmode\":\"relative\",\"width\":800,\"bargap\":0.02,\"showlegend\":false},                        {\"responsive\": true}                    ).then(function(){\n",
              "                            \n",
              "var gd = document.getElementById('0726447a-9ae7-414a-a7d1-a497892b1a5c');\n",
              "var x = new MutationObserver(function (mutations, observer) {{\n",
              "        var display = window.getComputedStyle(gd).display;\n",
              "        if (!display || display === 'none') {{\n",
              "            console.log([gd, 'removed!']);\n",
              "            Plotly.purge(gd);\n",
              "            observer.disconnect();\n",
              "        }}\n",
              "}});\n",
              "\n",
              "// Listen for the removal of the full notebook cells\n",
              "var notebookContainer = gd.closest('#notebook-container');\n",
              "if (notebookContainer) {{\n",
              "    x.observe(notebookContainer, {childList: true});\n",
              "}}\n",
              "\n",
              "// Listen for the clearing of the current output cell\n",
              "var outputEl = gd.closest('.output');\n",
              "if (outputEl) {{\n",
              "    x.observe(outputEl, {childList: true});\n",
              "}}\n",
              "\n",
              "                        })                };                            </script>        </div>\n",
              "</body>\n",
              "</html>"
            ]
          },
          "metadata": {},
          "output_type": "display_data"
        }
      ],
      "source": [
        "def show_activation_histogram(\n",
        "    model: HookedSAETransformer,\n",
        "    sae: SAE,\n",
        "    act_store: ActivationsStore,\n",
        "    latent_idx: int,\n",
        "    total_batches: int = 200,\n",
        "):\n",
        "    \"\"\"\n",
        "    Displays the activation histogram for a particular latent, computed across `total_batches` batches from `act_store`.\n",
        "    \"\"\"\n",
        "    sae_acts_post_hook_name = f\"{sae.cfg.hook_name}.hook_sae_acts_post\"\n",
        "    all_positive_acts = []  # store`latent_idx` feature activations here (keep only the ones with values > 0)\n",
        "\n",
        "    for i in tqdm(range(total_batches), desc=\"Computing activations for histogram\"):\n",
        "        tokens = act_store.get_batch_tokens()\n",
        "        # YOUR CODE HERE:\n",
        "        #   1. Run the model forward pass with SAE attached\n",
        "        #   2. Collect SAE activations corresponding to the `latent_idx` feature\n",
        "        #   3. Filter by choosing the activations > 0\n",
        "        raise NotImplementedError(\"YOUR CODE HERE\")\n",
        "\n",
        "    frac_active = -1  # calculate activation density: +5 points\n",
        "\n",
        "    px.histogram(\n",
        "        all_positive_acts,\n",
        "        nbins=50,\n",
        "        title=f\"ACTIVATIONS DENSITY {frac_active:.3%}\",\n",
        "        labels={\"value\": \"Activation\"},\n",
        "        width=800,\n",
        "        template=\"ggplot2\",\n",
        "        color_discrete_sequence=[\"darkorange\"],\n",
        "    ).update_layout(bargap=0.02, showlegend=False).show()\n",
        "\n",
        "\n",
        "show_activation_histogram(gpt2, gpt2_sae, gpt2_act_store, latent_idx=9)"
      ]
    },
    {
      "cell_type": "markdown",
      "metadata": {
        "id": "Hu5HwEPTDRqL"
      },
      "source": [
        "### **Task - find max activating examples (Points: 20)**\n",
        "\n",
        "Now you will find the max-activating examples - the prompts that show the highest level of activation from a latent. We've given you a function with a docstring to complete, although exactly how you want to present the data is entirely up to you.\n",
        "\n",
        "We've given you the following helper functions, as well as examples showing how to use them:\n",
        "\n",
        "- `get_k_largest_indices`, which will return the batch & seqpos indices of the k largest elements in a `(batch, seq)`-sized tensor,\n",
        "- `index_with_buffer`, which will index into a `(batch, seq)`-sized tensor with the results of `get_k_largest_indices`, including the tokens within `buffer` from the selected indices in the same sequence (this helps us get context around the selected tokens),\n",
        "- `display_top_seqs`, which will display sequences (with the relevant token highlighted) in a readable way.\n",
        "\n",
        "When it comes to decoding sequences, you can use `model.to_str_tokens` to map a 1D tensor of token IDs to a list of string tokens. Note that you're likely to get some unknown tokens `\"�\"` in your output - this is an unfortunate byproduct of tokenization the way we're doing it, and you shouldn't worry about it too much."
      ]
    },
    {
      "cell_type": "code",
      "execution_count": null,
      "metadata": {
        "colab": {
          "base_uri": "https://localhost:8080/",
          "height": 184
        },
        "id": "JxN6LffzFwun",
        "outputId": "d4062a4f-64a9-4cca-dd77-d35cc39a4865"
      },
      "outputs": [
        {
          "data": {
            "text/html": [
              "<pre style=\"white-space:pre;overflow-x:auto;line-height:normal;font-family:Menlo,'DejaVu Sans Mono',consolas,'Courier New',monospace\"><span style=\"font-style: italic\">  Max Activating Examples   </span>\n",
              "┏━━━━━━━┳━━━━━━━━━━━━━━━━━━┓\n",
              "┃<span style=\"font-weight: bold\"> Act   </span>┃<span style=\"font-weight: bold\"> Sequence         </span>┃\n",
              "┡━━━━━━━╇━━━━━━━━━━━━━━━━━━┩\n",
              "│ 0.500 │ '<span style=\"color: #008000; text-decoration-color: #008000; font-weight: bold; text-decoration: underline\"> one</span> two three' │\n",
              "├───────┼──────────────────┤\n",
              "│ 1.500 │ ' one<span style=\"color: #008000; text-decoration-color: #008000; font-weight: bold; text-decoration: underline\"> two</span> three' │\n",
              "├───────┼──────────────────┤\n",
              "│ 2.500 │ ' one two<span style=\"color: #008000; text-decoration-color: #008000; font-weight: bold; text-decoration: underline\"> three</span>' │\n",
              "└───────┴──────────────────┘\n",
              "</pre>\n"
            ],
            "text/plain": [
              "\u001b[3m  Max Activating Examples   \u001b[0m\n",
              "┏━━━━━━━┳━━━━━━━━━━━━━━━━━━┓\n",
              "┃\u001b[1m \u001b[0m\u001b[1mAct  \u001b[0m\u001b[1m \u001b[0m┃\u001b[1m \u001b[0m\u001b[1mSequence        \u001b[0m\u001b[1m \u001b[0m┃\n",
              "┡━━━━━━━╇━━━━━━━━━━━━━━━━━━┩\n",
              "│ 0.500 │ '\u001b[1;4;32m one\u001b[0m two three' │\n",
              "├───────┼──────────────────┤\n",
              "│ 1.500 │ ' one\u001b[1;4;32m two\u001b[0m three' │\n",
              "├───────┼──────────────────┤\n",
              "│ 2.500 │ ' one two\u001b[1;4;32m three\u001b[0m' │\n",
              "└───────┴──────────────────┘\n"
            ]
          },
          "metadata": {},
          "output_type": "display_data"
        }
      ],
      "source": [
        "# helper functions\n",
        "\n",
        "\n",
        "def get_k_largest_indices(x: Float[Tensor, \"batch seq\"], k: int, buffer: int = 0) -> Int[Tensor, \"k 2\"]:\n",
        "    \"\"\"\n",
        "    The indices of the top k elements in the input tensor, i.e. output[i, :] is the (batch, seqpos) value of the i-th\n",
        "    largest element in x.\n",
        "\n",
        "    Won't choose any elements within `buffer` from the start or end of their sequence.\n",
        "    \"\"\"\n",
        "    if buffer > 0:\n",
        "        x = x[:, buffer:-buffer]\n",
        "    indices = x.flatten().topk(k=k).indices\n",
        "    rows = indices // x.size(1)\n",
        "    cols = indices % x.size(1) + buffer\n",
        "    return t.stack((rows, cols), dim=1)\n",
        "\n",
        "\n",
        "x = t.arange(40, device=device).reshape((2, 20))\n",
        "x[0, 10] += 50  # 2nd highest value\n",
        "x[0, 11] += 100  # highest value\n",
        "x[1, 1] += 150  # not inside buffer (it's less than 3 from the start of the sequence)\n",
        "top_indices = get_k_largest_indices(x, k=2, buffer=3)\n",
        "assert top_indices.tolist() == [[0, 11], [0, 10]]\n",
        "\n",
        "\n",
        "def index_with_buffer(\n",
        "    x: Float[Tensor, \"batch seq\"], indices: Int[Tensor, \"k 2\"], buffer: int | None = None\n",
        ") -> Float[Tensor, \"k *buffer_x2_plus1\"]:\n",
        "    \"\"\"\n",
        "    Indexes into `x` with `indices` (which should have come from the `get_k_largest_indices` function), and takes a\n",
        "    +-buffer range around each indexed element. If `indices` are less than `buffer` away from the start of a sequence\n",
        "    then we just take the first `2*buffer+1` elems (same for at the end of a sequence).\n",
        "\n",
        "    If `buffer` is None, then we don't add any buffer and just return the elements at the given indices.\n",
        "    \"\"\"\n",
        "    rows, cols = indices.unbind(dim=-1)\n",
        "    if buffer is not None:\n",
        "        rows = einops.repeat(rows, \"k -> k buffer\", buffer=buffer * 2 + 1)\n",
        "        cols[cols < buffer] = buffer\n",
        "        cols[cols > x.size(1) - buffer - 1] = x.size(1) - buffer - 1\n",
        "        cols = einops.repeat(cols, \"k -> k buffer\", buffer=buffer * 2 + 1) + t.arange(\n",
        "            -buffer, buffer + 1, device=cols.device\n",
        "        )\n",
        "    return x[rows, cols]\n",
        "\n",
        "\n",
        "x_top_values_with_context = index_with_buffer(x, top_indices, buffer=3)\n",
        "assert x_top_values_with_context[0].tolist() == [8, 9, 10 + 50, 11 + 100, 12, 13, 14]  # highest value in the middle\n",
        "assert x_top_values_with_context[1].tolist() == [7, 8, 9, 10 + 50, 11 + 100, 12, 13]  # 2nd highest value in the middle\n",
        "\n",
        "\n",
        "def display_top_seqs(data: list[tuple[float, list[str], int]]):\n",
        "    \"\"\"\n",
        "    Given a list of (activation: float, str_toks: list[str], seq_pos: int), displays a table of these sequences, with\n",
        "    the relevant token highlighted.\n",
        "\n",
        "    We also turn newlines into \"\\\\n\", and remove unknown tokens � (usually weird quotation marks) for readability.\n",
        "    \"\"\"\n",
        "    table = Table(\"Act\", \"Sequence\", title=\"Max Activating Examples\", show_lines=True)\n",
        "    for act, str_toks, seq_pos in data:\n",
        "        formatted_seq = (\n",
        "            \"\".join([f\"[b u green]{str_tok}[/]\" if i == seq_pos else str_tok for i, str_tok in enumerate(str_toks)])\n",
        "            .replace(\"�\", \"\")\n",
        "            .replace(\"\\n\", \"↵\")\n",
        "        )\n",
        "        table.add_row(f\"{act:.3f}\", repr(formatted_seq))\n",
        "    rprint(table)\n",
        "\n",
        "\n",
        "example_data = [\n",
        "    (0.5, [\" one\", \" two\", \" three\"], 0),\n",
        "    (1.5, [\" one\", \" two\", \" three\"], 1),\n",
        "    (2.5, [\" one\", \" two\", \" three\"], 2),\n",
        "]\n",
        "display_top_seqs(example_data)"
      ]
    },
    {
      "cell_type": "markdown",
      "metadata": {
        "id": "5VzolUxTERc5"
      },
      "source": [
        "You should fill in the following function. It should return `data` as a list of tuples of the form `(max activation, list of string tokens, sequence position)`, and if `display` is True then it should also call `display_top_seqs` on this data."
      ]
    },
    {
      "cell_type": "code",
      "execution_count": null,
      "metadata": {
        "colab": {
          "base_uri": "https://localhost:8080/",
          "height": 268
        },
        "id": "Cn7iZzdqDrHz",
        "outputId": "d36a56fe-90fd-4f9c-f129-8f556b9522ba"
      },
      "outputs": [
        {
          "name": "stderr",
          "output_type": "stream",
          "text": [
            "Computing activations for max activating examples: 100%|██████████| 100/100 [00:15<00:00,  6.33it/s]\n"
          ]
        },
        {
          "data": {
            "text/html": [
              "<pre style=\"white-space:pre;overflow-x:auto;line-height:normal;font-family:Menlo,'DejaVu Sans Mono',consolas,'Courier New',monospace\"><span style=\"font-style: italic\">                                             Max Activating Examples                                              </span>\n",
              "┏━━━━━━━━┳━━━━━━━━━━━━━━━━━━━━━━━━━━━━━━━━━━━━━━━━━━━━━━━━━━━━━━━━━━━━━━━━━━━━━━━━━━━━━━━━━━━━━━━━━━━━━━━━━━━━━━━┓\n",
              "┃<span style=\"font-weight: bold\"> Act    </span>┃<span style=\"font-weight: bold\"> Sequence                                                                                              </span>┃\n",
              "┡━━━━━━━━╇━━━━━━━━━━━━━━━━━━━━━━━━━━━━━━━━━━━━━━━━━━━━━━━━━━━━━━━━━━━━━━━━━━━━━━━━━━━━━━━━━━━━━━━━━━━━━━━━━━━━━━━┩\n",
              "│ 43.451 │ '.↵↵Airline industry↵↵Under the<span style=\"color: #008000; text-decoration-color: #008000; font-weight: bold; text-decoration: underline\"> new</span> rules, payment surcharges will have to reflect the'               │\n",
              "├────────┼───────────────────────────────────────────────────────────────────────────────────────────────────────┤\n",
              "│ 41.921 │ '145m.↵↵Enforcement↵↵The<span style=\"color: #008000; text-decoration-color: #008000; font-weight: bold; text-decoration: underline\"> new</span> rules are being brought in earlier than the rest of'                     │\n",
              "├────────┼───────────────────────────────────────────────────────────────────────────────────────────────────────┤\n",
              "│ 39.845 │ ' activity,\" the minister had said.↵↵The<span style=\"color: #008000; text-decoration-color: #008000; font-weight: bold; text-decoration: underline\"> new</span> law is a precursor to banning chewing tobacco in public' │\n",
              "├────────┼───────────────────────────────────────────────────────────────────────────────────────────────────────┤\n",
              "│ 37.051 │ '.\"↵↵Niedermeyer agreed that the<span style=\"color: #008000; text-decoration-color: #008000; font-weight: bold; text-decoration: underline\"> new</span> car excitement \"tapers off\" the longer it'                       │\n",
              "├────────┼───────────────────────────────────────────────────────────────────────────────────────────────────────┤\n",
              "│ 37.004 │ ' each other as soon as possible.\"↵↵The<span style=\"color: #008000; text-decoration-color: #008000; font-weight: bold; text-decoration: underline\"> new</span> desert map will be included in the 1.0'                   │\n",
              "└────────┴───────────────────────────────────────────────────────────────────────────────────────────────────────┘\n",
              "</pre>\n"
            ],
            "text/plain": [
              "\u001b[3m                                             Max Activating Examples                                              \u001b[0m\n",
              "┏━━━━━━━━┳━━━━━━━━━━━━━━━━━━━━━━━━━━━━━━━━━━━━━━━━━━━━━━━━━━━━━━━━━━━━━━━━━━━━━━━━━━━━━━━━━━━━━━━━━━━━━━━━━━━━━━━┓\n",
              "┃\u001b[1m \u001b[0m\u001b[1mAct   \u001b[0m\u001b[1m \u001b[0m┃\u001b[1m \u001b[0m\u001b[1mSequence                                                                                             \u001b[0m\u001b[1m \u001b[0m┃\n",
              "┡━━━━━━━━╇━━━━━━━━━━━━━━━━━━━━━━━━━━━━━━━━━━━━━━━━━━━━━━━━━━━━━━━━━━━━━━━━━━━━━━━━━━━━━━━━━━━━━━━━━━━━━━━━━━━━━━━┩\n",
              "│ 43.451 │ '.↵↵Airline industry↵↵Under the\u001b[1;4;32m new\u001b[0m rules, payment surcharges will have to reflect the'               │\n",
              "├────────┼───────────────────────────────────────────────────────────────────────────────────────────────────────┤\n",
              "│ 41.921 │ '145m.↵↵Enforcement↵↵The\u001b[1;4;32m new\u001b[0m rules are being brought in earlier than the rest of'                     │\n",
              "├────────┼───────────────────────────────────────────────────────────────────────────────────────────────────────┤\n",
              "│ 39.845 │ ' activity,\" the minister had said.↵↵The\u001b[1;4;32m new\u001b[0m law is a precursor to banning chewing tobacco in public' │\n",
              "├────────┼───────────────────────────────────────────────────────────────────────────────────────────────────────┤\n",
              "│ 37.051 │ '.\"↵↵Niedermeyer agreed that the\u001b[1;4;32m new\u001b[0m car excitement \"tapers off\" the longer it'                       │\n",
              "├────────┼───────────────────────────────────────────────────────────────────────────────────────────────────────┤\n",
              "│ 37.004 │ ' each other as soon as possible.\"↵↵The\u001b[1;4;32m new\u001b[0m desert map will be included in the 1.0'                   │\n",
              "└────────┴───────────────────────────────────────────────────────────────────────────────────────────────────────┘\n"
            ]
          },
          "metadata": {},
          "output_type": "display_data"
        }
      ],
      "source": [
        "def fetch_max_activating_examples(\n",
        "    model: HookedSAETransformer,\n",
        "    sae: SAE,\n",
        "    act_store: ActivationsStore,\n",
        "    latent_idx: int,\n",
        "    total_batches: int = 100,\n",
        "    k: int = 10,\n",
        "    buffer: int = 10,\n",
        ") -> list[tuple[float, list[str], int]]:\n",
        "    \"\"\"\n",
        "    Returns the max activating examples across a number of batches from the activations store.\n",
        "    \"\"\"\n",
        "    sae_acts_post_hook_name = f\"{sae.cfg.hook_name}.hook_sae_acts_post\"\n",
        "\n",
        "    for _ in tqdm(range(total_batches), desc=\"Computing activations for max activating examples\"):\n",
        "        tokens = act_store.get_batch_tokens()\n",
        "        # YOUR CODE HERE:\n",
        "        #   1. run the model forward pass with SAE attached,\n",
        "        #   2. get largest indices using `get_k_largest_indices`\n",
        "        #   3. get the corresponding max acts and the surrounding indices using `index_with_buffer`\n",
        "        raise NotImplementedError(\"YOUR CODE HERE\")\n",
        "\n",
        "    # sort the results by max activations: from one with the highest to one with the lowest, return top `k`\n",
        "    return \"YOUR CODE HERE\"\n",
        "\n",
        "\n",
        "# Fetch & display the results\n",
        "buffer = 10\n",
        "data = fetch_max_activating_examples(gpt2, gpt2_sae, gpt2_act_store, latent_idx=9, buffer=buffer, k=5)\n",
        "display_top_seqs(data)\n",
        "\n",
        "# Test one of the results, to see if it matches the expected output\n",
        "first_seq_str_tokens = data[0][1]\n",
        "assert first_seq_str_tokens[buffer] == \" new\""
      ]
    },
    {
      "cell_type": "markdown",
      "metadata": {
        "id": "AjosyD3rGVIc"
      },
      "source": [
        "#### Non-overlapping sequences\n",
        "\n",
        "For the latent above, returning sequences the way you did probably worked pretty well. But other more concept-level latents (where multiple tokens in a sentence fire strongly) are a bit more annoying. You can try this function on a latent like `16873` (which fires on specific bible passages) - the returned sequences will mostly be the same, just shifted over by a different amount."
      ]
    },
    {
      "cell_type": "code",
      "execution_count": null,
      "metadata": {
        "id": "3BlwCSnqEX0o"
      },
      "outputs": [],
      "source": [
        "data = fetch_max_activating_examples(gpt2, gpt2_sae, gpt2_act_store, latent_idx=16873, total_batches=200)\n",
        "display_top_seqs(data)"
      ]
    },
    {
      "cell_type": "markdown",
      "metadata": {
        "id": "56lsHBoxGd5D"
      },
      "source": [
        "One way you can combat this is by emposing the restriction that any given top-activating token can only be in one sequence, i.e. when you pick that token you can't pick any in the range `[-buffer, buffer]` around it. We've given you a new function `get_k_largest_indices` below. Try it out with `no_overlap=True`, are the results much better?"
      ]
    },
    {
      "cell_type": "code",
      "execution_count": null,
      "metadata": {
        "id": "JGtZLzw9Gbzp"
      },
      "outputs": [],
      "source": [
        "def get_k_largest_indices(\n",
        "    x: Float[Tensor, \"batch seq\"],\n",
        "    k: int,\n",
        "    buffer: int = 0,\n",
        "    no_overlap: bool = True,\n",
        ") -> Int[Tensor, \"k 2\"]:\n",
        "    \"\"\"\n",
        "    Returns the tensor of (batch, seqpos) indices for each of the top k elements in the tensor x.\n",
        "\n",
        "    Args:\n",
        "        buffer:     We won't choose any elements within `buffer` from the start or end of their seq (this helps if we\n",
        "                    want more context around the chosen tokens).\n",
        "        no_overlap: If True, this ensures that no 2 top-activating tokens are in the same seq and within `buffer` of\n",
        "                    each other.\n",
        "    \"\"\"\n",
        "    assert buffer * 2 < x.size(1), \"Buffer is too large for the sequence length\"\n",
        "    assert not no_overlap or k <= x.size(0), \"Not enough sequences to have a different token in each sequence\"\n",
        "\n",
        "    if buffer > 0:\n",
        "        x = x[:, buffer:-buffer]\n",
        "\n",
        "    indices = x.flatten().argsort(-1, descending=True)\n",
        "    rows = indices // x.size(1)\n",
        "    cols = indices % x.size(1) + buffer\n",
        "\n",
        "    if no_overlap:\n",
        "        unique_indices = t.empty((0, 2), device=x.device).long()\n",
        "        while len(unique_indices) < k:\n",
        "            unique_indices = t.cat((unique_indices, t.tensor([[rows[0], cols[0]]], device=x.device)))\n",
        "            is_overlapping_mask = (rows == rows[0]) & ((cols - cols[0]).abs() <= buffer)\n",
        "            rows = rows[~is_overlapping_mask]\n",
        "            cols = cols[~is_overlapping_mask]\n",
        "        return unique_indices\n",
        "\n",
        "    return t.stack((rows, cols), dim=1)[:k]\n",
        "\n",
        "\n",
        "x = t.arange(40, device=device).reshape((2, 20))\n",
        "x[0, 10] += 150  # highest value\n",
        "x[0, 11] += 100  # 2nd highest value, but won't be chosen because of overlap\n",
        "x[1, 10] += 50  # 3rd highest, will be chosen\n",
        "top_indices = get_k_largest_indices(x, k=2, buffer=3)\n",
        "assert top_indices.tolist() == [[0, 10], [1, 10]]\n",
        "\n",
        "\n",
        "data = fetch_max_activating_examples(gpt2, gpt2_sae, gpt2_act_store, latent_idx=16873, total_batches=200)\n",
        "display_top_seqs(data)"
      ]
    },
    {
      "cell_type": "markdown",
      "metadata": {
        "id": "aGGsoHUxG7kS"
      },
      "source": [
        "### **Task - get top / bottom logits (Points: 10)**\n",
        "\n",
        "Now, let's write the top & bottom logits tables. These don't require data, since they're just functions of the SAE and model's weights. Recall - you can access the unembedding of your base model using model.W_U, and you can access your SAE's decoder weights using sae.W_dec.\n",
        "\n",
        "To get the logits w.r.t. a particular SAE feature (latent): W_dec[latent_idx] @ W_U\n",
        "\n",
        "**Hint:** you can use `torch.topk` function to get the `k` largest (smallest) values and their indices."
      ]
    },
    {
      "cell_type": "code",
      "execution_count": null,
      "metadata": {
        "id": "HvJXhzjgLUKv"
      },
      "outputs": [],
      "source": [
        "# test function to verify the correctness of your code :)\n",
        "\n",
        "import io, contextlib\n",
        "\n",
        "\n",
        "def test_show_top_logits(show_top_logits, gpt2: HookedSAETransformer, gpt2_sae: SAE):\n",
        "    \"\"\"\n",
        "    We test by checking whether a couple of expected top tokens are in the output.\n",
        "    \"\"\"\n",
        "    latent_idx = 9\n",
        "    with io.StringIO() as buf, contextlib.redirect_stdout(buf):\n",
        "        show_top_logits(gpt2, gpt2_sae, latent_idx)\n",
        "        output = buf.getvalue()\n",
        "    assert \"bies\" in output, \"Expected 'bies' to be in output (most positive value)\"\n",
        "    assert \"Zip\" in output, \"Expected 'Zip' to be in output (most negative value)\"\n",
        "    print(\"All tests in `test_show_top_logits` passed!\")"
      ]
    },
    {
      "cell_type": "code",
      "execution_count": 17,
      "metadata": {
        "colab": {
          "base_uri": "https://localhost:8080/"
        },
        "id": "ASM4lzHKGku4",
        "outputId": "9333ee8d-88db-4c39-9091-6898ae8b15a0"
      },
      "outputs": [
        {
          "name": "stdout",
          "output_type": "stream",
          "text": [
            "┌─────────────────┬─────────┬─────────────────┬─────────┐\n",
            "│   Bottom tokens │ Value   │      Top tokens │ Value   │\n",
            "├─────────────────┼─────────┼─────────────────┼─────────┤\n",
            "│           'Zip' │ -0.774  │          'bies' │ +1.327  │\n",
            "│       'acebook' │ -0.761  │           'bie' │ +1.297  │\n",
            "│           'lua' │ -0.737  │     ' arrivals' │ +1.218  │\n",
            "│        'ashtra' │ -0.728  │    ' additions' │ +1.018  │\n",
            "│       'ONSORED' │ -0.708  │      ' edition' │ +0.994  │\n",
            "│           'OGR' │ -0.705  │   ' millennium' │ +0.966  │\n",
            "│      'umenthal' │ -0.703  │   ' generation' │ +0.962  │\n",
            "│        'ecause' │ -0.697  │     ' entrants' │ +0.923  │\n",
            "│          'icio' │ -0.692  │        ' hires' │ +0.919  │\n",
            "│          'cius' │ -0.692  │ ' developments' │ +0.881  │\n",
            "└─────────────────┴─────────┴─────────────────┴─────────┘\n",
            "All tests in `test_show_top_logits` passed!\n"
          ]
        }
      ],
      "source": [
        "def show_top_logits(\n",
        "    model: HookedSAETransformer,\n",
        "    sae: SAE,\n",
        "    latent_idx: int,\n",
        "    k: int = 10,\n",
        ") -> None:\n",
        "    \"\"\"\n",
        "    Displays the top & bottom logits for a particular latent.\n",
        "    \"\"\"\n",
        "    logits = # YOUR CODE HERE: Compute W_dec[latent_idx] @ W_U\"\n",
        "\n",
        "    pos_logits, pos_token_ids = # YOUR CODE HERE: compute top-k largest logits\n",
        "    pos_tokens = # YOUR CODE HERE: get the top-k largest tokens (str format)\n",
        "    neg_logits, neg_token_ids = # YOUR CODE HERE: compute top-k smallest logits\n",
        "    neg_tokens = # YOUR CODE HERE: get the top-k smalles tokens (str format)\n",
        "\n",
        "    print(\n",
        "        tabulate(\n",
        "            zip(map(repr, neg_tokens), neg_logits, map(repr, pos_tokens), pos_logits),\n",
        "            headers=[\"Bottom tokens\", \"Value\", \"Top tokens\", \"Value\"],\n",
        "            tablefmt=\"simple_outline\",\n",
        "            stralign=\"right\",\n",
        "            numalign=\"left\",\n",
        "            floatfmt=\"+.3f\",\n",
        "        )\n",
        "    )\n",
        "\n",
        "\n",
        "show_top_logits(gpt2, gpt2_sae, latent_idx=9)\n",
        "test_show_top_logits(show_top_logits, gpt2, gpt2_sae)"
      ]
    },
    {
      "cell_type": "code",
      "execution_count": null,
      "metadata": {
        "id": "RBRdI8W3MeYr"
      },
      "outputs": [],
      "source": []
    }
  ],
  "metadata": {
    "accelerator": "GPU",
    "colab": {
      "gpuType": "T4",
      "provenance": []
    },
    "kernelspec": {
      "display_name": ".venv",
      "language": "python",
      "name": "python3"
    },
    "language_info": {
      "codemirror_mode": {
        "name": "ipython",
        "version": 3
      },
      "file_extension": ".py",
      "mimetype": "text/x-python",
      "name": "python",
      "nbconvert_exporter": "python",
      "pygments_lexer": "ipython3",
      "version": "3.12.9"
    }
  },
  "nbformat": 4,
  "nbformat_minor": 0
}
